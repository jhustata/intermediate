{
 "cells": [
  {
   "cell_type": "markdown",
   "metadata": {},
   "source": [
    "# 7. Survival analysis: non-parametric, semi-parametric, parametric\n",
    "\n",
    "### 7.6 Lab\n",
    "\n",
    "#### Data Preparation and Initial Analysis\n",
    "\n",
    "**Objective**: Prepare the data from last weeks **lab 6**, analyse it using nonparametric (Kaplan-Meier), semiparametric (Cox Regression), and parametric (Weibull regression). Generate two figures for each method to showcase absolute risks (i.e., cumulative incidence) and relative risks (i.e., hazard ratios). You may adjust for `age`, `sex`, and `race`.\n",
    "\n",
    "### 7.7 Homework\n",
    "\n",
    "Generate `.html` files of your Stata output using the `dyndoc` command and provide links on your website to showoff the richness of your output."
   ]
  }
 ],
 "metadata": {
  "kernelspec": {
   "display_name": "Python 3",
   "language": "python",
   "name": "python3"
  },
  "language_info": {
   "codemirror_mode": {
    "name": "ipython",
    "version": 3
   },
   "file_extension": ".py",
   "mimetype": "text/x-python",
   "name": "python",
   "nbconvert_exporter": "python",
   "pygments_lexer": "ipython3",
   "version": "3.11.2"
  },
  "widgets": {
   "application/vnd.jupyter.widget-state+json": {
    "state": {},
    "version_major": 2,
    "version_minor": 0
   }
  }
 },
 "nbformat": 4,
 "nbformat_minor": 4
}