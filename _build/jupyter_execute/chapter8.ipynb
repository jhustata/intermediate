{
 "cells": [
  {
   "cell_type": "markdown",
   "metadata": {},
   "source": [
    "# 8. Finesse project website, reduce clutter, ensure reproducibility\n",
    "\n",
    "### 8.1 Finesse project website\n",
    "A project [website](https://jhustata.github.io/project/) might be a reflection of your professionalism and attention to detail. Ensure that your website is easy to navigate, with clear menus and a cohesive design. \n",
    "### 8.2 Reduce clutter  \n",
    "Clarity is key in clinical and public health research communications. Use hyperlinks to provide detailed information on a separate webpage, keeping your main page clean and focused. This allows readers to explore topics in more depth if they wish.\n",
    "### 8.3 Ensure reprodicibility\n",
    "Reproducibility is the cornerstone of scientific research. Document your code and data sources meticulously, and provide clear instructions for running analyses. This allows others to replicate your findings."
   ]
  },
  {
   "cell_type": "code",
   "execution_count": 1,
   "metadata": {
    "tags": [
     "hide-input",
     "hide-output"
    ]
   },
   "outputs": [
    {
     "name": "stdout",
     "output_type": "stream",
     "text": [
      "\n",
      "\n",
      ". use ~/documents/github/statatwo/wk8, clear \n"
     ]
    },
    {
     "name": "stdout",
     "output_type": "stream",
     "text": [
      "\n",
      ". stcox i.huq010, basesurv(s0)\n"
     ]
    },
    {
     "name": "stdout",
     "output_type": "stream",
     "text": [
      "\n",
      "        Failure _d: mortstat\n"
     ]
    },
    {
     "name": "stdout",
     "output_type": "stream",
     "text": [
      "  Analysis time _t: years\n"
     ]
    },
    {
     "name": "stdout",
     "output_type": "stream",
     "text": [
      "\n",
      "Iteration 0:  Log likelihood = -14053.711\n"
     ]
    },
    {
     "name": "stdout",
     "output_type": "stream",
     "text": [
      "Iteration 1:  Log likelihood = -13842.257\n"
     ]
    },
    {
     "name": "stdout",
     "output_type": "stream",
     "text": [
      "Iteration 2:  Log likelihood = -13815.469\n"
     ]
    },
    {
     "name": "stdout",
     "output_type": "stream",
     "text": [
      "Iteration 3:  Log likelihood = -13815.219\n"
     ]
    },
    {
     "name": "stdout",
     "output_type": "stream",
     "text": [
      "Iteration 4:  Log likelihood = -13815.219\n"
     ]
    },
    {
     "name": "stdout",
     "output_type": "stream",
     "text": [
      "Refining estimates:\n"
     ]
    },
    {
     "name": "stdout",
     "output_type": "stream",
     "text": [
      "Iteration 0:  Log likelihood = -13815.219\n"
     ]
    },
    {
     "name": "stdout",
     "output_type": "stream",
     "text": [
      "\n",
      "Cox regression with Breslow method for ties\n"
     ]
    },
    {
     "name": "stdout",
     "output_type": "stream",
     "text": [
      "\n",
      "No. of subjects =       5,436                           Number of obs =  5,436\n"
     ]
    },
    {
     "name": "stdout",
     "output_type": "stream",
     "text": [
      "No. of failures =       1,671\n"
     ]
    },
    {
     "name": "stdout",
     "output_type": "stream",
     "text": [
      "Time at risk    = 91,679.7499\n"
     ]
    },
    {
     "name": "stdout",
     "output_type": "stream",
     "text": [
      "                                                        LR chi2(4)    = 476.98\n"
     ]
    },
    {
     "name": "stdout",
     "output_type": "stream",
     "text": [
      "Log likelihood = -13815.219                             Prob > chi2   = 0.0000\n"
     ]
    },
    {
     "name": "stdout",
     "output_type": "stream",
     "text": [
      "\n",
      "------------------------------------------------------------------------------\n"
     ]
    },
    {
     "name": "stdout",
     "output_type": "stream",
     "text": [
      "          _t | Haz. ratio   Std. err.      z    P>|z|     [95% conf. interval]\n"
     ]
    },
    {
     "name": "stdout",
     "output_type": "stream",
     "text": [
      "-------------+----------------------------------------------------------------\n"
     ]
    },
    {
     "name": "stdout",
     "output_type": "stream",
     "text": [
      "      huq010 |\n"
     ]
    },
    {
     "name": "stdout",
     "output_type": "stream",
     "text": [
      "  Very Good  |   1.347475   .1251746     3.21   0.001     1.123176    1.616567\n"
     ]
    },
    {
     "name": "stdout",
     "output_type": "stream",
     "text": [
      "       Good  |   1.880346   .1619641     7.33   0.000     1.588251    2.226159\n"
     ]
    },
    {
     "name": "stdout",
     "output_type": "stream",
     "text": [
      "       Fair  |   2.985347   .2634849    12.39   0.000     2.511125    3.549126\n"
     ]
    },
    {
     "name": "stdout",
     "output_type": "stream",
     "text": [
      "       Poor  |   7.475088   .7565146    19.88   0.000     6.130144    9.115111\n"
     ]
    },
    {
     "name": "stdout",
     "output_type": "stream",
     "text": [
      "------------------------------------------------------------------------------\n"
     ]
    },
    {
     "name": "stdout",
     "output_type": "stream",
     "text": [
      "\n",
      ". sort _t s0\n"
     ]
    },
    {
     "name": "stdout",
     "output_type": "stream",
     "text": [
      "\n",
      ". list _t s0 in 1/20\n"
     ]
    },
    {
     "name": "stdout",
     "output_type": "stream",
     "text": [
      "\n",
      "     +-----------------------+\n"
     ]
    },
    {
     "name": "stdout",
     "output_type": "stream",
     "text": [
      "     |        _t          s0 |\n"
     ]
    },
    {
     "name": "stdout",
     "output_type": "stream",
     "text": [
      "     |-----------------------|\n"
     ]
    },
    {
     "name": "stdout",
     "output_type": "stream",
     "text": [
      "  1. | .08333334    .9996459 |\n"
     ]
    },
    {
     "name": "stdout",
     "output_type": "stream",
     "text": [
      "  2. | .08333334    .9996459 |\n"
     ]
    },
    {
     "name": "stdout",
     "output_type": "stream",
     "text": [
      "  3. | .08333334    .9996459 |\n"
     ]
    },
    {
     "name": "stdout",
     "output_type": "stream",
     "text": [
      "  4. | .08333334    .9996459 |\n"
     ]
    },
    {
     "name": "stdout",
     "output_type": "stream",
     "text": [
      "  5. | .16666667   .99938005 |\n"
     ]
    },
    {
     "name": "stdout",
     "output_type": "stream",
     "text": [
      "     |-----------------------|\n"
     ]
    },
    {
     "name": "stdout",
     "output_type": "stream",
     "text": [
      "  6. | .16666667   .99938005 |\n"
     ]
    },
    {
     "name": "stdout",
     "output_type": "stream",
     "text": [
      "  7. | .16666667   .99938005 |\n"
     ]
    },
    {
     "name": "stdout",
     "output_type": "stream",
     "text": [
      "  8. |       .25   .99858103 |\n"
     ]
    },
    {
     "name": "stdout",
     "output_type": "stream",
     "text": [
      "  9. |       .25   .99858103 |\n"
     ]
    },
    {
     "name": "stdout",
     "output_type": "stream",
     "text": [
      " 10. |       .25   .99858103 |\n"
     ]
    },
    {
     "name": "stdout",
     "output_type": "stream",
     "text": [
      "     |-----------------------|\n"
     ]
    },
    {
     "name": "stdout",
     "output_type": "stream",
     "text": [
      " 11. |       .25   .99858103 |\n"
     ]
    },
    {
     "name": "stdout",
     "output_type": "stream",
     "text": [
      " 12. |       .25   .99858103 |\n"
     ]
    },
    {
     "name": "stdout",
     "output_type": "stream",
     "text": [
      " 13. |       .25   .99858103 |\n"
     ]
    },
    {
     "name": "stdout",
     "output_type": "stream",
     "text": [
      " 14. |       .25   .99858103 |\n"
     ]
    },
    {
     "name": "stdout",
     "output_type": "stream",
     "text": [
      " 15. |       .25   .99858103 |\n"
     ]
    },
    {
     "name": "stdout",
     "output_type": "stream",
     "text": [
      "     |-----------------------|\n"
     ]
    },
    {
     "name": "stdout",
     "output_type": "stream",
     "text": [
      " 16. |       .25   .99858103 |\n"
     ]
    },
    {
     "name": "stdout",
     "output_type": "stream",
     "text": [
      " 17. | .33333334   .99804732 |\n"
     ]
    },
    {
     "name": "stdout",
     "output_type": "stream",
     "text": [
      " 18. | .33333334   .99804732 |\n"
     ]
    },
    {
     "name": "stdout",
     "output_type": "stream",
     "text": [
      " 19. | .33333334   .99804732 |\n"
     ]
    },
    {
     "name": "stdout",
     "output_type": "stream",
     "text": [
      " 20. | .33333334   .99804732 |\n"
     ]
    },
    {
     "name": "stdout",
     "output_type": "stream",
     "text": [
      "     +-----------------------+\n"
     ]
    },
    {
     "name": "stdout",
     "output_type": "stream",
     "text": [
      "\n",
      ". keep _t s0\n"
     ]
    },
    {
     "name": "stdout",
     "output_type": "stream",
     "text": [
      "\n",
      ". save ~/documents/github/statatwo/s0, replace\n"
     ]
    },
    {
     "name": "stdout",
     "output_type": "stream",
     "text": [
      "file ~/documents/github/statatwo/s0.dta saved\n"
     ]
    }
   ],
   "source": [
    "//cls \n",
    "qui {\n",
    "\tif 1 {\n",
    "//1. data\n",
    "global repo \"https://github.com/jhustata/project/raw/main/\"\n",
    "global nhanes \"https://wwwn.cdc.gov/Nchs/Nhanes/\"\n",
    "\n",
    "//2. code\n",
    "do ${repo}followup.do\n",
    "save ~/documents/github/statatwo/followup, replace \n",
    "import sasxport5 \"${nhanes}1999-2000/DEMO.XPT\", clear\n",
    "merge 1:1 seqn using followup, nogen\n",
    "save ~/documents/github/statatwo/survey_followup, replace \n",
    "\n",
    "//3. parameters\n",
    "import sasxport5 \"${nhanes}1999-2000/HUQ.XPT\", clear\n",
    "tab huq010 \n",
    "merge 1:1 seqn using ~/documents/github/statatwo/survey_followup, nogen keep(matched)\n",
    "rm ~/documents/github/statatwo/followup.dta\n",
    "rm ~/documents/github/statatwo/survey_followup.dta\n",
    "g years=permth_int/12\n",
    "stset years, fail(mortstat)\n",
    "replace huq010=. if huq010==9\n",
    "label define huq 1 \"Excellent\" 2 \"Very Good\" 3 \"Good\" 4 \"Fair\" 5 \"Poor\"\n",
    "label values huq010 huq \n",
    "levelsof huq010, local(numlevels)\n",
    "local i=1\n",
    "foreach l of numlist `numlevels' {\n",
    "    local vallab: value label huq010 \n",
    "\tlocal catlab: lab `vallab' `l'\n",
    "\tglobal legend`i' = \"`catlab'\"\n",
    "\tlocal i= `i' + 1\n",
    "}\n",
    "save ~/documents/github/statatwo/week7, replace \n",
    "#delimit;\n",
    "sts graph,  \n",
    "    by(huq010)  \n",
    "\tfail  \n",
    "\tper(100) \n",
    "\tylab(0(20)80 ,  \n",
    "\t    format(%2.0f)  \n",
    "\t)  \n",
    "\txlab(0(5)20)  \n",
    "\ttmax(20)  \n",
    "\tti(\"Self-Reported Health and Mortality\")  \n",
    "\tlegend(  \n",
    "\t    order(5 4 3 2 1)  \n",
    "\t\tlab(1 \"$legend1\")  \n",
    "\t\tlab(2 \"$legend2\")  \n",
    "\t\tlab(3 \"$legend3\") \n",
    "\t\tlab(4 \"$legend4\")  \n",
    "\t\tlab(5 \"$legend5\")  \n",
    "\t\tring(0) pos(11) \n",
    "\t) ;\n",
    "#delimit cr\n",
    "graph export ~/documents/github/statatwo/nonpara.png, replace \n",
    "save ~/documents/github/statatwo/wk8, replace \n",
    "    }\n",
    "}\n",
    "use ~/documents/github/statatwo/wk8, clear \n",
    "stcox i.huq010, basesurv(s0)\n",
    "sort _t s0\n",
    "list _t s0 in 1/20\n",
    "keep _t s0\n",
    "save ~/documents/github/statatwo/s0, replace "
   ]
  },
  {
   "cell_type": "code",
   "execution_count": 2,
   "metadata": {},
   "outputs": [
    {
     "name": "stdout",
     "output_type": "stream",
     "text": [
      "\n",
      "0\n"
     ]
    },
    {
     "name": "stdout",
     "output_type": "stream",
     "text": [
      ".29266961\n"
     ]
    },
    {
     "name": "stdout",
     "output_type": "stream",
     "text": [
      ".63127178\n"
     ]
    },
    {
     "name": "stdout",
     "output_type": "stream",
     "text": [
      "1.0919233\n"
     ]
    },
    {
     "name": "stdout",
     "output_type": "stream",
     "text": [
      "2.010895\n"
     ]
    }
   ],
   "source": [
    "foreach n of numlist 1 1.34 1.88 2.98 7.47 {\n",
    "\tdi log(`n')\n",
    "}"
   ]
  },
  {
   "cell_type": "code",
   "execution_count": 3,
   "metadata": {
    "tags": [
     "hide-input",
     "hide-output"
    ]
   },
   "outputs": [
    {
     "name": "stdout",
     "output_type": "stream",
     "text": [
      "\n",
      "\n",
      "\n",
      "      +----------------+\n"
     ]
    },
    {
     "name": "stdout",
     "output_type": "stream",
     "text": [
      "      | _t          s0 |\n"
     ]
    },
    {
     "name": "stdout",
     "output_type": "stream",
     "text": [
      "      |----------------|\n"
     ]
    },
    {
     "name": "stdout",
     "output_type": "stream",
     "text": [
      " 394. |  5   .96281503 |\n"
     ]
    },
    {
     "name": "stdout",
     "output_type": "stream",
     "text": [
      " 395. |  5   .96281503 |\n"
     ]
    },
    {
     "name": "stdout",
     "output_type": "stream",
     "text": [
      " 396. |  5   .96281503 |\n"
     ]
    },
    {
     "name": "stdout",
     "output_type": "stream",
     "text": [
      " 397. |  5   .96281503 |\n"
     ]
    },
    {
     "name": "stdout",
     "output_type": "stream",
     "text": [
      " 398. |  5   .96281503 |\n"
     ]
    },
    {
     "name": "stdout",
     "output_type": "stream",
     "text": [
      "      |----------------|\n"
     ]
    },
    {
     "name": "stdout",
     "output_type": "stream",
     "text": [
      " 399. |  5   .96281503 |\n"
     ]
    },
    {
     "name": "stdout",
     "output_type": "stream",
     "text": [
      " 400. |  5   .96281503 |\n"
     ]
    },
    {
     "name": "stdout",
     "output_type": "stream",
     "text": [
      " 401. |  5   .96281503 |\n"
     ]
    },
    {
     "name": "stdout",
     "output_type": "stream",
     "text": [
      " 402. |  5   .96281503 |\n"
     ]
    },
    {
     "name": "stdout",
     "output_type": "stream",
     "text": [
      "      +----------------+\n"
     ]
    },
    {
     "name": "stdout",
     "output_type": "stream",
     "text": [
      "\n",
      "\n",
      "      +----------------+\n"
     ]
    },
    {
     "name": "stdout",
     "output_type": "stream",
     "text": [
      "      | _t          s0 |\n"
     ]
    },
    {
     "name": "stdout",
     "output_type": "stream",
     "text": [
      "      |----------------|\n"
     ]
    },
    {
     "name": "stdout",
     "output_type": "stream",
     "text": [
      " 863. | 10   .91558171 |\n"
     ]
    },
    {
     "name": "stdout",
     "output_type": "stream",
     "text": [
      " 864. | 10   .91558171 |\n"
     ]
    },
    {
     "name": "stdout",
     "output_type": "stream",
     "text": [
      " 865. | 10   .91558171 |\n"
     ]
    },
    {
     "name": "stdout",
     "output_type": "stream",
     "text": [
      " 866. | 10   .91558171 |\n"
     ]
    },
    {
     "name": "stdout",
     "output_type": "stream",
     "text": [
      " 867. | 10   .91558171 |\n"
     ]
    },
    {
     "name": "stdout",
     "output_type": "stream",
     "text": [
      "      |----------------|\n"
     ]
    },
    {
     "name": "stdout",
     "output_type": "stream",
     "text": [
      " 868. | 10   .91558171 |\n"
     ]
    },
    {
     "name": "stdout",
     "output_type": "stream",
     "text": [
      " 869. | 10   .91558171 |\n"
     ]
    },
    {
     "name": "stdout",
     "output_type": "stream",
     "text": [
      " 870. | 10   .91558171 |\n"
     ]
    },
    {
     "name": "stdout",
     "output_type": "stream",
     "text": [
      "      +----------------+\n"
     ]
    },
    {
     "name": "stdout",
     "output_type": "stream",
     "text": [
      "\n",
      "\n",
      "      +----------------+\n"
     ]
    },
    {
     "name": "stdout",
     "output_type": "stream",
     "text": [
      "      | _t          s0 |\n"
     ]
    },
    {
     "name": "stdout",
     "output_type": "stream",
     "text": [
      "      |----------------|\n"
     ]
    },
    {
     "name": "stdout",
     "output_type": "stream",
     "text": [
      "1264. | 15   .87179276 |\n"
     ]
    },
    {
     "name": "stdout",
     "output_type": "stream",
     "text": [
      "1265. | 15   .87179276 |\n"
     ]
    },
    {
     "name": "stdout",
     "output_type": "stream",
     "text": [
      "1266. | 15   .87179276 |\n"
     ]
    },
    {
     "name": "stdout",
     "output_type": "stream",
     "text": [
      "1267. | 15   .87179276 |\n"
     ]
    },
    {
     "name": "stdout",
     "output_type": "stream",
     "text": [
      "1268. | 15   .87179276 |\n"
     ]
    },
    {
     "name": "stdout",
     "output_type": "stream",
     "text": [
      "      |----------------|\n"
     ]
    },
    {
     "name": "stdout",
     "output_type": "stream",
     "text": [
      "1269. | 15   .87179276 |\n"
     ]
    },
    {
     "name": "stdout",
     "output_type": "stream",
     "text": [
      "1270. | 15   .87179276 |\n"
     ]
    },
    {
     "name": "stdout",
     "output_type": "stream",
     "text": [
      "1271. | 15   .87179276 |\n"
     ]
    },
    {
     "name": "stdout",
     "output_type": "stream",
     "text": [
      "1272. | 15   .87179276 |\n"
     ]
    },
    {
     "name": "stdout",
     "output_type": "stream",
     "text": [
      "      +----------------+\n"
     ]
    },
    {
     "name": "stdout",
     "output_type": "stream",
     "text": [
      "\n",
      "\n",
      "      +----------------+\n"
     ]
    },
    {
     "name": "stdout",
     "output_type": "stream",
     "text": [
      "      | _t          s0 |\n"
     ]
    },
    {
     "name": "stdout",
     "output_type": "stream",
     "text": [
      "      |----------------|\n"
     ]
    },
    {
     "name": "stdout",
     "output_type": "stream",
     "text": [
      "3557. | 20   .82403985 |\n"
     ]
    },
    {
     "name": "stdout",
     "output_type": "stream",
     "text": [
      "3558. | 20   .82403985 |\n"
     ]
    },
    {
     "name": "stdout",
     "output_type": "stream",
     "text": [
      "3559. | 20   .82403985 |\n"
     ]
    },
    {
     "name": "stdout",
     "output_type": "stream",
     "text": [
      "3560. | 20   .82403985 |\n"
     ]
    },
    {
     "name": "stdout",
     "output_type": "stream",
     "text": [
      "3561. | 20   .82403985 |\n"
     ]
    },
    {
     "name": "stdout",
     "output_type": "stream",
     "text": [
      "      |----------------|\n"
     ]
    },
    {
     "name": "stdout",
     "output_type": "stream",
     "text": [
      "3562. | 20   .82403985 |\n"
     ]
    },
    {
     "name": "stdout",
     "output_type": "stream",
     "text": [
      "3563. | 20   .82403985 |\n"
     ]
    },
    {
     "name": "stdout",
     "output_type": "stream",
     "text": [
      "3564. | 20   .82403985 |\n"
     ]
    },
    {
     "name": "stdout",
     "output_type": "stream",
     "text": [
      "3565. | 20   .82403985 |\n"
     ]
    },
    {
     "name": "stdout",
     "output_type": "stream",
     "text": [
      "3566. | 20   .82403985 |\n"
     ]
    },
    {
     "name": "stdout",
     "output_type": "stream",
     "text": [
      "      |----------------|\n"
     ]
    },
    {
     "name": "stdout",
     "output_type": "stream",
     "text": [
      "3567. | 20   .82403985 |\n"
     ]
    },
    {
     "name": "stdout",
     "output_type": "stream",
     "text": [
      "3568. | 20   .82403985 |\n"
     ]
    },
    {
     "name": "stdout",
     "output_type": "stream",
     "text": [
      "3569. | 20   .82403985 |\n"
     ]
    },
    {
     "name": "stdout",
     "output_type": "stream",
     "text": [
      "3570. | 20   .82403985 |\n"
     ]
    },
    {
     "name": "stdout",
     "output_type": "stream",
     "text": [
      "3571. | 20   .82403985 |\n"
     ]
    },
    {
     "name": "stdout",
     "output_type": "stream",
     "text": [
      "      |----------------|\n"
     ]
    },
    {
     "name": "stdout",
     "output_type": "stream",
     "text": [
      "3572. | 20   .82403985 |\n"
     ]
    },
    {
     "name": "stdout",
     "output_type": "stream",
     "text": [
      "3573. | 20   .82403985 |\n"
     ]
    },
    {
     "name": "stdout",
     "output_type": "stream",
     "text": [
      "3574. | 20   .82403985 |\n"
     ]
    },
    {
     "name": "stdout",
     "output_type": "stream",
     "text": [
      "3575. | 20   .82403985 |\n"
     ]
    },
    {
     "name": "stdout",
     "output_type": "stream",
     "text": [
      "3576. | 20   .82403985 |\n"
     ]
    },
    {
     "name": "stdout",
     "output_type": "stream",
     "text": [
      "      |----------------|\n"
     ]
    },
    {
     "name": "stdout",
     "output_type": "stream",
     "text": [
      "3577. | 20   .82403985 |\n"
     ]
    },
    {
     "name": "stdout",
     "output_type": "stream",
     "text": [
      "3578. | 20   .82403985 |\n"
     ]
    },
    {
     "name": "stdout",
     "output_type": "stream",
     "text": [
      "3579. | 20   .82403985 |\n"
     ]
    },
    {
     "name": "stdout",
     "output_type": "stream",
     "text": [
      "3580. | 20   .82403985 |\n"
     ]
    },
    {
     "name": "stdout",
     "output_type": "stream",
     "text": [
      "3581. | 20   .82403985 |\n"
     ]
    },
    {
     "name": "stdout",
     "output_type": "stream",
     "text": [
      "      |----------------|\n"
     ]
    },
    {
     "name": "stdout",
     "output_type": "stream",
     "text": [
      "3582. | 20   .82403985 |\n"
     ]
    },
    {
     "name": "stdout",
     "output_type": "stream",
     "text": [
      "3583. | 20   .82403985 |\n"
     ]
    },
    {
     "name": "stdout",
     "output_type": "stream",
     "text": [
      "3584. | 20   .82403985 |\n"
     ]
    },
    {
     "name": "stdout",
     "output_type": "stream",
     "text": [
      "3585. | 20   .82403985 |\n"
     ]
    },
    {
     "name": "stdout",
     "output_type": "stream",
     "text": [
      "3586. | 20   .82403985 |\n"
     ]
    },
    {
     "name": "stdout",
     "output_type": "stream",
     "text": [
      "      |----------------|\n"
     ]
    },
    {
     "name": "stdout",
     "output_type": "stream",
     "text": [
      "3587. | 20   .82403985 |\n"
     ]
    },
    {
     "name": "stdout",
     "output_type": "stream",
     "text": [
      "3588. | 20   .82403985 |\n"
     ]
    },
    {
     "name": "stdout",
     "output_type": "stream",
     "text": [
      "3589. | 20   .82403985 |\n"
     ]
    },
    {
     "name": "stdout",
     "output_type": "stream",
     "text": [
      "3590. | 20   .82403985 |\n"
     ]
    },
    {
     "name": "stdout",
     "output_type": "stream",
     "text": [
      "3591. | 20   .82403985 |\n"
     ]
    },
    {
     "name": "stdout",
     "output_type": "stream",
     "text": [
      "      |----------------|\n"
     ]
    },
    {
     "name": "stdout",
     "output_type": "stream",
     "text": [
      "3592. | 20   .82403985 |\n"
     ]
    },
    {
     "name": "stdout",
     "output_type": "stream",
     "text": [
      "3593. | 20   .82403985 |\n"
     ]
    },
    {
     "name": "stdout",
     "output_type": "stream",
     "text": [
      "3594. | 20   .82403985 |\n"
     ]
    },
    {
     "name": "stdout",
     "output_type": "stream",
     "text": [
      "3595. | 20   .82403985 |\n"
     ]
    },
    {
     "name": "stdout",
     "output_type": "stream",
     "text": [
      "3596. | 20   .82403985 |\n"
     ]
    },
    {
     "name": "stdout",
     "output_type": "stream",
     "text": [
      "      |----------------|\n"
     ]
    },
    {
     "name": "stdout",
     "output_type": "stream",
     "text": [
      "3597. | 20   .82403985 |\n"
     ]
    },
    {
     "name": "stdout",
     "output_type": "stream",
     "text": [
      "3598. | 20   .82403985 |\n"
     ]
    },
    {
     "name": "stdout",
     "output_type": "stream",
     "text": [
      "3599. | 20   .82403985 |\n"
     ]
    },
    {
     "name": "stdout",
     "output_type": "stream",
     "text": [
      "3600. | 20   .82403985 |\n"
     ]
    },
    {
     "name": "stdout",
     "output_type": "stream",
     "text": [
      "3601. | 20   .82403985 |\n"
     ]
    },
    {
     "name": "stdout",
     "output_type": "stream",
     "text": [
      "      |----------------|\n"
     ]
    },
    {
     "name": "stdout",
     "output_type": "stream",
     "text": [
      "3602. | 20   .82403985 |\n"
     ]
    },
    {
     "name": "stdout",
     "output_type": "stream",
     "text": [
      "3603. | 20   .82403985 |\n"
     ]
    },
    {
     "name": "stdout",
     "output_type": "stream",
     "text": [
      "3604. | 20   .82403985 |\n"
     ]
    },
    {
     "name": "stdout",
     "output_type": "stream",
     "text": [
      "3605. | 20   .82403985 |\n"
     ]
    },
    {
     "name": "stdout",
     "output_type": "stream",
     "text": [
      "3606. | 20   .82403985 |\n"
     ]
    },
    {
     "name": "stdout",
     "output_type": "stream",
     "text": [
      "      |----------------|\n"
     ]
    },
    {
     "name": "stdout",
     "output_type": "stream",
     "text": [
      "3607. | 20   .82403985 |\n"
     ]
    },
    {
     "name": "stdout",
     "output_type": "stream",
     "text": [
      "3608. | 20   .82403985 |\n"
     ]
    },
    {
     "name": "stdout",
     "output_type": "stream",
     "text": [
      "3609. | 20   .82403985 |\n"
     ]
    },
    {
     "name": "stdout",
     "output_type": "stream",
     "text": [
      "3610. | 20   .82403985 |\n"
     ]
    },
    {
     "name": "stdout",
     "output_type": "stream",
     "text": [
      "3611. | 20   .82403985 |\n"
     ]
    },
    {
     "name": "stdout",
     "output_type": "stream",
     "text": [
      "      |----------------|\n"
     ]
    },
    {
     "name": "stdout",
     "output_type": "stream",
     "text": [
      "3612. | 20   .82403985 |\n"
     ]
    },
    {
     "name": "stdout",
     "output_type": "stream",
     "text": [
      "3613. | 20   .82403985 |\n"
     ]
    },
    {
     "name": "stdout",
     "output_type": "stream",
     "text": [
      "3614. | 20   .82403985 |\n"
     ]
    },
    {
     "name": "stdout",
     "output_type": "stream",
     "text": [
      "3615. | 20   .82403985 |\n"
     ]
    },
    {
     "name": "stdout",
     "output_type": "stream",
     "text": [
      "3616. | 20   .82403985 |\n"
     ]
    },
    {
     "name": "stdout",
     "output_type": "stream",
     "text": [
      "      |----------------|\n"
     ]
    },
    {
     "name": "stdout",
     "output_type": "stream",
     "text": [
      "3617. | 20   .82403985 |\n"
     ]
    },
    {
     "name": "stdout",
     "output_type": "stream",
     "text": [
      "3618. | 20   .82403985 |\n"
     ]
    },
    {
     "name": "stdout",
     "output_type": "stream",
     "text": [
      "3619. | 20   .82403985 |\n"
     ]
    },
    {
     "name": "stdout",
     "output_type": "stream",
     "text": [
      "3620. | 20   .82403985 |\n"
     ]
    },
    {
     "name": "stdout",
     "output_type": "stream",
     "text": [
      "3621. | 20   .82403985 |\n"
     ]
    },
    {
     "name": "stdout",
     "output_type": "stream",
     "text": [
      "      |----------------|\n"
     ]
    },
    {
     "name": "stdout",
     "output_type": "stream",
     "text": [
      "3622. | 20   .82403985 |\n"
     ]
    },
    {
     "name": "stdout",
     "output_type": "stream",
     "text": [
      "3623. | 20   .82403985 |\n"
     ]
    },
    {
     "name": "stdout",
     "output_type": "stream",
     "text": [
      "3624. | 20   .82403985 |\n"
     ]
    },
    {
     "name": "stdout",
     "output_type": "stream",
     "text": [
      "3625. | 20   .82403985 |\n"
     ]
    },
    {
     "name": "stdout",
     "output_type": "stream",
     "text": [
      "3626. | 20   .82403985 |\n"
     ]
    },
    {
     "name": "stdout",
     "output_type": "stream",
     "text": [
      "      |----------------|\n"
     ]
    },
    {
     "name": "stdout",
     "output_type": "stream",
     "text": [
      "3627. | 20   .82403985 |\n"
     ]
    },
    {
     "name": "stdout",
     "output_type": "stream",
     "text": [
      "3628. | 20   .82403985 |\n"
     ]
    },
    {
     "name": "stdout",
     "output_type": "stream",
     "text": [
      "3629. | 20   .82403985 |\n"
     ]
    },
    {
     "name": "stdout",
     "output_type": "stream",
     "text": [
      "3630. | 20   .82403985 |\n"
     ]
    },
    {
     "name": "stdout",
     "output_type": "stream",
     "text": [
      "3631. | 20   .82403985 |\n"
     ]
    },
    {
     "name": "stdout",
     "output_type": "stream",
     "text": [
      "      |----------------|\n"
     ]
    },
    {
     "name": "stdout",
     "output_type": "stream",
     "text": [
      "3632. | 20   .82403985 |\n"
     ]
    },
    {
     "name": "stdout",
     "output_type": "stream",
     "text": [
      "3633. | 20   .82403985 |\n"
     ]
    },
    {
     "name": "stdout",
     "output_type": "stream",
     "text": [
      "3634. | 20   .82403985 |\n"
     ]
    },
    {
     "name": "stdout",
     "output_type": "stream",
     "text": [
      "3635. | 20   .82403985 |\n"
     ]
    },
    {
     "name": "stdout",
     "output_type": "stream",
     "text": [
      "3636. | 20   .82403985 |\n"
     ]
    },
    {
     "name": "stdout",
     "output_type": "stream",
     "text": [
      "      |----------------|\n"
     ]
    },
    {
     "name": "stdout",
     "output_type": "stream",
     "text": [
      "--more--\n"
     ]
    }
   ],
   "source": [
    "list if inrange(_t, 0, .000001)\n",
    "list if inrange(_t, 4.999999, 5.000001)\n",
    "list if inrange(_t, 9.999999, 10.000001)\n",
    "list if inrange(_t, 14.999999, 15.000001)\n",
    "list if inrange(_t, 19.999999, 20.000001)\n"
   ]
  },
  {
   "cell_type": "markdown",
   "metadata": {},
   "source": [
    "#### Nonparametric\n",
    "This line of code `graph export ~/documents/github/statatwo/nonpara.png, replace` above yields the nonparametric product-limit-estimator, also known as the \"Kaplan-Meier\" curve **seen below.**\n",
    "\n",
    "![](nonpara.png)\n",
    "\n",
    "#### Semiparametric\n",
    "\n",
    "The results from a Cox regression above, `. stcox i.huq010, basesurv(s0)`, are semi-parametric. The $\\beta_i$ coefficients for the `hug010` categories are the parametric moiety, where as the $s0$ kaplan-meier estimate for the basecase is the nonparametic; hence, **semi**parametric!\n",
    "\n",
    "[webApp](https://jhustata.github.io/quickdeploy/)"
   ]
  },
  {
   "cell_type": "markdown",
   "metadata": {},
   "source": [
    "```stata\n",
    "qui {\n",
    "matrix b = e(b)\n",
    "matrix list b\n",
    "//SV -> scenario vector (i.e., user-input = scenario)\n",
    "//In the scenario below b0=1, b1=0, b2=0, b3=0, b4=0m b5=0\n",
    "matrix define SV = (1, 0, 0, 0, 0) \n",
    "//yields the logHR\n",
    "matrix loghr = SV*b'\n",
    "use \"${repo}s0.dta\", clear\n",
    "g f0 = (1 - s0)*100\n",
    "g f1 = f0*exp(loghr[1,1])\n",
    "noi sum f1 if inrange(_t,0,.0001)\n",
    "noi sum f1 if inrange(_t,4.9999,5.0001)\n",
    "noi sum f1 if inrange(_t,9.9999,10.0001)\n",
    "noi sum f1 if inrange(_t,14.9999,15.0001)\n",
    "noi sum f1 if inrange(_t,19.9999,20.0001)\n",
    "//Segev, JAMA, 2010\n",
    "noi di \"Donor mortality at 12-year follow-up:\" %3.1f r(max) \"%\" \n",
    "#delimit;\n",
    "line f1 _t if inrange(_t,1,15), \n",
    "    sort \n",
    "\tconnect(step step) \n",
    "\tylab(0(10)40, \n",
    "\t    format(%2.0f)\n",
    "\t) \n",
    "\txlab(0(3)15)\n",
    "\tyti(\"%\")\n",
    "\txti(\"Years\")\n",
    "\t;\n",
    "#delimit cr\n",
    "}\n",
    "```"
   ]
  }
 ],
 "metadata": {
  "kernelspec": {
   "display_name": "Stata",
   "language": "stata",
   "name": "stata"
  },
  "language_info": {
   "codemirror_mode": "stata",
   "file_extension": ".do",
   "mimetype": "text/x-stata",
   "name": "stata",
   "version": "15.1"
  },
  "widgets": {
   "application/vnd.jupyter.widget-state+json": {
    "state": {},
    "version_major": 2,
    "version_minor": 0
   }
  }
 },
 "nbformat": 4,
 "nbformat_minor": 4
}