{
 "cells": [
  {
   "cell_type": "markdown",
   "metadata": {},
   "source": [
    "# 8. Finesse project website, reduce clutter, ensure reproducibility\n",
    "\n",
    "### 8.1 Finesse project website\n",
    "A project [website](https://jhustata.github.io/project/) might be a reflection of your professionalism and attention to detail. Ensure that your website is easy to navigate, with clear menus and a cohesive design. \n",
    "### 8.2 Reduce clutter  \n",
    "Clarity is key in clinical and public health research communications. Use hyperlinks to provide detailed information on a separate webpage, keeping your main page clean and focused. This allows readers to explore topics in more depth if they wish.\n",
    "### 8.3 Ensure reprodicibility\n",
    "Reproducibility is the cornerstone of scientific research. Document your code and data sources meticulously, and provide clear instructions for running analyses. This allows others to replicate your findings."
   ]
  },
  {
   "cell_type": "code",
   "execution_count": 11,
   "metadata": {
    "tags": [
     "hide-input"
    ]
   },
   "outputs": [
    {
     "name": "stdout",
     "output_type": "stream",
     "text": [
      "\n",
      "\n",
      ". use ~/documents/github/wk8, clear \n",
      "\n",
      ". stcox i.huq010, basesurv(s0)\n",
      "\n",
      "        Failure _d: mortstat\n",
      "  Analysis time _t: years\n",
      "\n",
      "Iteration 0:  Log likelihood = -14053.711\n",
      "Iteration 1:  Log likelihood = -13842.257\n",
      "Iteration 2:  Log likelihood = -13815.469\n",
      "Iteration 3:  Log likelihood = -13815.219\n",
      "Iteration 4:  Log likelihood = -13815.219\n",
      "Refining estimates:\n",
      "Iteration 0:  Log likelihood = -13815.219\n",
      "\n",
      "Cox regression with Breslow method for ties\n",
      "\n",
      "No. of subjects =       5,436                           Number of obs =  5,436\n",
      "No. of failures =       1,671\n",
      "Time at risk    = 91,679.7499\n",
      "                                                        LR chi2(4)    = 476.98\n",
      "Log likelihood = -13815.219                             Prob > chi2   = 0.0000\n",
      "\n",
      "------------------------------------------------------------------------------\n",
      "          _t | Haz. ratio   Std. err.      z    P>|z|     [95% conf. interval]\n",
      "-------------+----------------------------------------------------------------\n",
      "      huq010 |\n",
      "  Very Good  |   1.347475   .1251746     3.21   0.001     1.123176    1.616567\n",
      "       Good  |   1.880346   .1619641     7.33   0.000     1.588251    2.226159\n",
      "       Fair  |   2.985347   .2634849    12.39   0.000     2.511125    3.549126\n",
      "       Poor  |   7.475088   .7565146    19.88   0.000     6.130144    9.115111\n",
      "------------------------------------------------------------------------------\n",
      "\n",
      ". sort _t s0\n",
      "\n",
      ". list _t s0 in 1/20\n",
      "\n",
      "     +-----------------------+\n",
      "     |        _t          s0 |\n",
      "     |-----------------------|\n",
      "  1. | .08333334    .9996459 |\n",
      "  2. | .08333334    .9996459 |\n",
      "  3. | .08333334    .9996459 |\n",
      "  4. | .08333334    .9996459 |\n",
      "  5. | .16666667   .99938005 |\n",
      "     |-----------------------|\n",
      "  6. | .16666667   .99938005 |\n",
      "  7. | .16666667   .99938005 |\n",
      "  8. |       .25   .99858103 |\n",
      "  9. |       .25   .99858103 |\n",
      " 10. |       .25   .99858103 |\n",
      "     |-----------------------|\n",
      " 11. |       .25   .99858103 |\n",
      " 12. |       .25   .99858103 |\n",
      " 13. |       .25   .99858103 |\n",
      " 14. |       .25   .99858103 |\n",
      " 15. |       .25   .99858103 |\n",
      "     |-----------------------|\n",
      " 16. |       .25   .99858103 |\n",
      " 17. | .33333334   .99804732 |\n",
      " 18. | .33333334   .99804732 |\n",
      " 19. | .33333334   .99804732 |\n",
      " 20. | .33333334   .99804732 |\n",
      "     +-----------------------+\n",
      "\n",
      ". keep _t s0\n",
      "\n",
      ". save ~/documents/github/s0, replace\n",
      "(file /Users/d/documents/github/s0.dta not found)\n",
      "file ~/documents/github/s0.dta saved\n"
     ]
    }
   ],
   "source": [
    "//cls \n",
    "qui {\n",
    "\tif 1 {\n",
    "//1. data\n",
    "global repo \"https://github.com/jhustata/project/raw/main/\"\n",
    "global nhanes \"https://wwwn.cdc.gov/Nchs/Nhanes/\"\n",
    "\n",
    "//2. code\n",
    "do ${repo}followup.do\n",
    "save followup, replace \n",
    "import sasxport5 \"${nhanes}1999-2000/DEMO.XPT\", clear\n",
    "merge 1:1 seqn using followup, nogen\n",
    "save survey_followup, replace \n",
    "\n",
    "//3. parameters\n",
    "import sasxport5 \"${nhanes}1999-2000/HUQ.XPT\", clear\n",
    "tab huq010 \n",
    "merge 1:1 seqn using survey_followup, nogen keep(matched)\n",
    "rm followup.dta\n",
    "rm survey_followup.dta\n",
    "g years=permth_int/12\n",
    "stset years, fail(mortstat)\n",
    "replace huq010=. if huq010==9\n",
    "label define huq 1 \"Excellent\" 2 \"Very Good\" 3 \"Good\" 4 \"Fair\" 5 \"Poor\"\n",
    "label values huq010 huq \n",
    "levelsof huq010, local(numlevels)\n",
    "local i=1\n",
    "foreach l of numlist `numlevels' {\n",
    "    local vallab: value label huq010 \n",
    "\tlocal catlab: lab `vallab' `l'\n",
    "\tglobal legend`i' = \"`catlab'\"\n",
    "\tlocal i= `i' + 1\n",
    "}\n",
    "save week7, replace \n",
    "#delimit;\n",
    "sts graph,  \n",
    "    by(huq010)  \n",
    "\tfail  \n",
    "\tper(100) \n",
    "\tylab(0(20)80 ,  \n",
    "\t    format(%2.0f)  \n",
    "\t)  \n",
    "\txlab(0(5)20)  \n",
    "\ttmax(20)  \n",
    "\tti(\"Self-Reported Health and Mortality\")  \n",
    "\tlegend(  \n",
    "\t    order(5 4 3 2 1)  \n",
    "\t\tlab(1 \"$legend1\")  \n",
    "\t\tlab(2 \"$legend2\")  \n",
    "\t\tlab(3 \"$legend3\") \n",
    "\t\tlab(4 \"$legend4\")  \n",
    "\t\tlab(5 \"$legend5\")  \n",
    "\t\tring(0) pos(11) \n",
    "\t) ;\n",
    "#delimit cr\n",
    "graph export ~/documents/github/nonpara.png, replace \n",
    "save ~/documents/github/wk8, replace \n",
    "    }\n",
    "}\n",
    "use ~/documents/github/wk8, clear \n",
    "stcox i.huq010, basesurv(s0)\n",
    "sort _t s0\n",
    "list _t s0 in 1/20\n",
    "keep _t s0\n",
    "save ~/documents/github/s0, replace "
   ]
  },
  {
   "cell_type": "markdown",
   "metadata": {},
   "source": [
    "#### Nonparametric\n",
    "This line of code `graph export ~/documents/github/nonpara.png, replace` above yields a nonparametric product-limit-estimator, also known as the \"Kaplan-Meier\" curve\n",
    "\n",
    "![](nonpara.png)\n",
    "\n",
    "#### Semiparametric\n",
    "\n",
    "The above results from a Cox regression are semi-parametric. The $\\beta_i$ coefficients are the parametric moiety where as the $s0$ kaplan-meier estimate for the basecase is the nonparametic; hence, semiparametric!\n",
    "\n"
   ]
  },
  {
   "cell_type": "code",
   "execution_count": 12,
   "metadata": {},
   "outputs": [
    {
     "name": "stdout",
     "output_type": "stream",
     "text": [
      "\n",
      "file https://github.com/jhustata/project/raw/main/s0.dta not found\n"
     ]
    },
    {
     "name": "stderr",
     "output_type": "stream",
     "text": [
      "r(601);\n",
      "r(601);\n"
     ]
    },
    {
     "name": "stdout",
     "output_type": "stream",
     "text": [
      "\n",
      "\n"
     ]
    }
   ],
   "source": [
    "qui {\n",
    "matrix b = e(b)\n",
    "matrix list b\n",
    "//SV -> scenario vector (i.e., user-input = scenario)\n",
    "//In the scenario below b0=1, b1=0, b2=0, b3=0, b4=0m b5=0\n",
    "matrix define SV = (1, 0, 0, 0, 0) \n",
    "//yields the logHR\n",
    "matrix loghr = SV*b'\n",
    "use \"${repo}s0.dta\", clear\n",
    "g f0 = (1 - s0)*100\n",
    "g f1 = f0*exp(loghr[1,1])\n",
    "noi sum f1 if inrange(_t,0,.0001)\n",
    "noi sum f1 if inrange(_t,4.9999,5.0001)\n",
    "noi sum f1 if inrange(_t,9.9999,10.0001)\n",
    "noi sum f1 if inrange(_t,14.9999,15.0001)\n",
    "noi sum f1 if inrange(_t,19.9999,20.0001)\n",
    "//Segev, JAMA, 2010\n",
    "noi di \"Donor mortality at 12-year follow-up:\" %3.1f r(max) \"%\" \n",
    "#delimit;\n",
    "line f1 _t if inrange(_t,1,15), \n",
    "    sort \n",
    "\tconnect(step step) \n",
    "\tylab(0(10)40, \n",
    "\t    format(%2.0f)\n",
    "\t) \n",
    "\txlab(0(3)15)\n",
    "\tyti(\"%\")\n",
    "\txti(\"Years\")\n",
    "\t;\n",
    "#delimit cr\n",
    "}"
   ]
  }
 ],
 "metadata": {
  "kernelspec": {
   "display_name": "Stata",
   "language": "stata",
   "name": "stata"
  },
  "language_info": {
   "codemirror_mode": "stata",
   "file_extension": ".do",
   "mimetype": "text/x-stata",
   "name": "stata",
   "version": "15.1"
  },
  "widgets": {
   "application/vnd.jupyter.widget-state+json": {
    "state": {},
    "version_major": 2,
    "version_minor": 0
   }
  }
 },
 "nbformat": 4,
 "nbformat_minor": 4
}
